{
 "cells": [
  {
   "cell_type": "markdown",
   "metadata": {},
   "source": [
    "**Задание 1**. Даны 2 строки: *long_phrase* и *short_phrase*. \n",
    "Напишите код, который проверяет действительно ли длинная фраза *long_phrase* длиннее короткой *short_phrase*. И выводит *True* или *False* в зависимости от результата сравнения."
   ]
  },
  {
   "cell_type": "code",
   "execution_count": 17,
   "metadata": {},
   "outputs": [
    {
     "name": "stdout",
     "output_type": "stream",
     "text": [
      "False\n"
     ]
    }
   ],
   "source": [
    "long_phrase = \"Насколько проще было бы писать программы, если бы не заказчики\",\n",
    "short_phrase = \"640Кб должно хватить для любых задач. Билл Гейтс (по легенде)\"\n",
    "if len(long_phrase) > len(short_phrase): print (\"True\")\n",
    "else: print (\"False\")"
   ]
  },
  {
   "cell_type": "markdown",
   "metadata": {},
   "source": [
    "**Задание 2**. Дано значение объема файла в байтах. Напишите перевод этого значения в мегабайты в формате: \"*Объем файла равен 213.68Mb*\""
   ]
  },
  {
   "cell_type": "code",
   "execution_count": 54,
   "metadata": {},
   "outputs": [
    {
     "name": "stdout",
     "output_type": "stream",
     "text": [
      "Объем файла равен 0.1 Mb\n",
      "Объем файла равен 0.1 Mb\n"
     ]
    }
   ],
   "source": [
    "Bytes = float(100)\n",
    "print (\"Объем файла равен\", round(Bytes/1024.00, 2), \"Mb\")\n",
    "print (f\"Объем файла равен {round(Bytes/1024.00, 2)} Mb\")\n"
   ]
  },
  {
   "cell_type": "markdown",
   "metadata": {},
   "source": [
    "**Задание 3**. Разработать приложение для определения знака зодиака по дате рождения. Пример:\n",
    "\n",
    "Введите месяц: март\n",
    "\n",
    "Введите число: 6\n",
    "\n",
    "Вывод:\n",
    "Рыбы"
   ]
  },
  {
   "cell_type": "code",
   "execution_count": null,
   "metadata": {},
   "outputs": [],
   "source": [
    "print('введите месяц, в текстовом формате все слова с маленькой буквы')\n",
    "month =  str(input())\n",
    "print('введите число')\n",
    "date = int(input())\n",
    "if month == 'январь' and date <= 20: print ('Козерог')\n",
    "if month == 'январь' and date > 20: print ('Водолей')\n",
    "if month == 'февраль' and date < 19 : print ('Водолей')\n",
    "if month == 'февраль' and date >= 19 : print ('Рыбы')\n",
    "if month == 'март' and date <= 22 : print ('Рыбы')\n",
    "if month == 'март' and date > 22 : print ('Овен')  \n",
    "if month == 'апрель' and date <= 21 : print ('Овен')\n",
    "if month == 'апрель' and date > 22 : print ('Телец')\n",
    "pass"
   ]
  },
  {
   "cell_type": "code",
   "execution_count": 60,
   "metadata": {},
   "outputs": [
    {
     "name": "stdout",
     "output_type": "stream",
     "text": [
      "введите месяц, в числовом формате\n",
      "1\n",
      "введите число\n",
      "17\n",
      "Козерог\n"
     ]
    }
   ],
   "source": [
    "##  способ 2 с модулем datetime\n",
    "import datetime\n",
    "print('введите месяц, в числовом формате')\n",
    "month =  int(input())\n",
    "print('введите число')\n",
    "date = int(input())\n",
    "x = datetime.date(2000, month, date)\n",
    "#print (x)\n",
    "if x <= datetime.date(2000,1,22): print ('Козерог')\n",
    "elif x <= datetime.date(2000,2,19): print ('Водолей')\n",
    "elif x <= datetime.date(2000,3,22): print ('Рыбы')\n",
    "elif x <= datetime.date(2000,12,31): print ('Прочие')\n",
    "    "
   ]
  },
  {
   "cell_type": "markdown",
   "metadata": {},
   "source": [
    "**Задание 4**. Нужно разработать приложение для финансового планирования.\n",
    "Приложение учитывает сколько уходит на ипотеку, \"на жизнь\" и сколько нужно отложить на пенсию.\n",
    "Пользователь вводит:\n",
    "- заработанную плату в месяц.\n",
    "- сколько процентов от ЗП уходит на ипотеку.\n",
    "- сколько процентов от ЗП уходит \"на жизнь\".\n",
    "- сколько раз приходит премия в год.\n",
    "\n",
    "Остальная часть заработанной платы откладывается на пенсию.\n",
    "\n",
    "Также пользователю приходит премия в размере зарплаты, от которой половина уходит на отпуск, а вторая половина откладывается.\n",
    "\n",
    "Программа должна учитывать сколько премий было в год.\n",
    "\n",
    "Нужно вывести сколько денег тратит пользователь на ипотеку и сколько он накопит за год.\n",
    "\n",
    "Пример:\n",
    "\n",
    "Введите заработанную плату в месяц: 100000\n",
    "\n",
    "Введите сколько процентов уходит на ипотеку: 30\n",
    "\n",
    "Введите сколько процентов уходит на жизнь: 50\n",
    "\n",
    "Введите количество премий за год: 2\n",
    "\n",
    "Вывод:\n",
    "На ипотеку было потрачено: 360000 рублей\n",
    "Было накоплено: 340000 рублей"
   ]
  },
  {
   "cell_type": "code",
   "execution_count": 14,
   "metadata": {},
   "outputs": [
    {
     "name": "stdout",
     "output_type": "stream",
     "text": [
      "Введите заработанную плату в месяц\n",
      "100000\n",
      "Введите сколько процентов уходит на ипотеку\n",
      "30\n",
      "Введите сколько процентов уходит на жизнь\n",
      "50\n",
      "Введите количество премий за год\n",
      "2\n",
      "На ипотеку было потрачено: 360000 рублей Было накоплено: 340000 рублей\n"
     ]
    }
   ],
   "source": [
    "print('Введите заработанную плату в месяц')\n",
    "salary =  int(input())\n",
    "print('Введите сколько процентов уходит на ипотеку')\n",
    "ipotekad = int(input())\n",
    "print('Введите сколько процентов уходит на жизнь')\n",
    "lifed = int(input())\n",
    "print('Введите количество премий за год')\n",
    "premia = int(input())\n",
    "ipoteka = round((ipotekad / 100 * 12 * salary))\n",
    "save = salary*12 - ipoteka - round(lifed/100*12*salary) + round(premia* salary/2)\n",
    "print (f'На ипотеку было потрачено: {ipoteka} рублей Было накоплено: {save} рублей')\n",
    "#savings = \n",
    "#print('На ипотеку было потрачено: 360000 рублей Было накоплено: 340000 рублей)"
   ]
  }
 ],
 "metadata": {
  "kernelspec": {
   "display_name": "Python 3",
   "language": "python",
   "name": "python3"
  },
  "language_info": {
   "codemirror_mode": {
    "name": "ipython",
    "version": 3
   },
   "file_extension": ".py",
   "mimetype": "text/x-python",
   "name": "python",
   "nbconvert_exporter": "python",
   "pygments_lexer": "ipython3",
   "version": "3.7.1"
  }
 },
 "nbformat": 4,
 "nbformat_minor": 2
}
